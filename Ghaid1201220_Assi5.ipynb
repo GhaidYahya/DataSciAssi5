{
  "nbformat": 4,
  "nbformat_minor": 0,
  "metadata": {
    "colab": {
      "provenance": []
    },
    "kernelspec": {
      "name": "python3",
      "display_name": "Python 3"
    },
    "language_info": {
      "name": "python"
    }
  },
  "cells": [
    {
      "cell_type": "markdown",
      "source": [
        "# 🤍**Ghaid Yahya** ***1201220 - Assi No.5***🤍\n",
        "---"
      ],
      "metadata": {
        "id": "u6zqRtDTIioE"
      }
    },
    {
      "cell_type": "markdown",
      "source": [
        "Importing the libraries"
      ],
      "metadata": {
        "id": "wj1yEYs_JeEd"
      }
    },
    {
      "cell_type": "code",
      "execution_count": 11,
      "metadata": {
        "id": "PRq5MMqpF7i7"
      },
      "outputs": [],
      "source": [
        "import pandas as pd\n",
        "import numpy as np\n",
        "from itertools import combinations\n"
      ]
    },
    {
      "cell_type": "markdown",
      "source": [
        "To read the dataset file"
      ],
      "metadata": {
        "id": "BlBB_S_UUgvs"
      }
    },
    {
      "cell_type": "code",
      "source": [
        "myFile = \"DataSet/online_retail_II.csv\"\n",
        "df = pd.read_csv(myFile)"
      ],
      "metadata": {
        "id": "u1EeI3HmJmzv"
      },
      "execution_count": 12,
      "outputs": []
    },
    {
      "cell_type": "markdown",
      "source": [
        "**Randomly select 200k row from the dataset using your ID as seed.**"
      ],
      "metadata": {
        "id": "Wd9S-uBsUYBV"
      }
    },
    {
      "cell_type": "code",
      "source": [
        "random200k = df.sample(n=200000, random_state=1201220)"
      ],
      "metadata": {
        "id": "-SfyLQnMOm20"
      },
      "execution_count": 13,
      "outputs": []
    },
    {
      "cell_type": "markdown",
      "source": [
        "I used my id as a seed which is 1201220"
      ],
      "metadata": {
        "id": "TpDyuDFmUsXu"
      }
    },
    {
      "cell_type": "markdown",
      "source": [
        "**1. Determine the total sales per invoice and identify the top 5 invoices.**"
      ],
      "metadata": {
        "id": "ABeAhYJ2U4Tm"
      }
    },
    {
      "cell_type": "code",
      "source": [
        "df['TotalSales'] = df['Price'] * df['Quantity']\n",
        "sales = df.groupby('Invoice')['TotalSales'].sum()\n",
        "topTrans = sales.nlargest(5)\n",
        "\n"
      ],
      "metadata": {
        "id": "WYwxxjUpQFps"
      },
      "execution_count": 14,
      "outputs": []
    },
    {
      "cell_type": "markdown",
      "source": [
        "To calculate the total sales per invoice (explination for the output above)\n",
        "\n",
        "*   we first multiply the price and quantity columns to get the total\n",
        "*   then Groupe them by invoice, sum the total sales for each invoice\n",
        "*   lastly Identify the top 5 invoices with the highest total sales\n",
        "\n",
        "\n"
      ],
      "metadata": {
        "id": "czNbGPMnXyyo"
      }
    },
    {
      "cell_type": "code",
      "source": [
        "print(\"The Top 5 Invoices\")\n",
        "print(topTrans)"
      ],
      "metadata": {
        "id": "S6A7ZTz2eOgl",
        "colab": {
          "base_uri": "https://localhost:8080/"
        },
        "outputId": "d29346db-e1ac-462f-a891-fa79741934ba"
      },
      "execution_count": 15,
      "outputs": [
        {
          "output_type": "stream",
          "name": "stdout",
          "text": [
            "The Top 5 Invoices\n",
            "Invoice\n",
            "581483    168469.60\n",
            "541431     77183.60\n",
            "574941     52940.94\n",
            "576365     50653.91\n",
            "533027     49844.99\n",
            "Name: TotalSales, dtype: float64\n"
          ]
        }
      ]
    },
    {
      "cell_type": "markdown",
      "source": [
        "**2. Compute the total sales per customer and list the top 5 customers**"
      ],
      "metadata": {
        "id": "nhpNjtBv3ca5"
      }
    },
    {
      "cell_type": "code",
      "source": [
        "df['TotalSales'] = df['Price'] * df['Quantity']\n",
        "customerTsales = df.groupby('Customer ID')['TotalSales'].sum()\n",
        "top5Cust = customerTsales.nlargest(5)"
      ],
      "metadata": {
        "id": "3O3T46MWgl5g"
      },
      "execution_count": 16,
      "outputs": []
    },
    {
      "cell_type": "markdown",
      "source": [
        "To calculate the top customer per invoice (explination for the output above)\n",
        "\n",
        "*   we first multiply the price and quantity columns to calculate the total sales per invoice.\n",
        "*  then group invoices by customer, and sum the total sales for each customer.\n",
        "*   lastly Identify the top 5 customers with the highest total sales.\n",
        "\n",
        "\n",
        "\n",
        "\n",
        "\n",
        "\n",
        "\n",
        "\n",
        "\n"
      ],
      "metadata": {
        "id": "yfQbKVMlgncS"
      }
    },
    {
      "cell_type": "code",
      "source": [
        "print(\"The Top 5 Customers\")\n",
        "print(top5Cust)"
      ],
      "metadata": {
        "id": "TDRDytBOcRl0",
        "colab": {
          "base_uri": "https://localhost:8080/"
        },
        "outputId": "0626d605-4c8e-4266-8d73-3bbb168c7f1e"
      },
      "execution_count": 17,
      "outputs": [
        {
          "output_type": "stream",
          "name": "stdout",
          "text": [
            "The Top 5 Customers\n",
            "Customer ID\n",
            "18102.0    598215.22\n",
            "14646.0    523342.07\n",
            "14156.0    296564.69\n",
            "14911.0    270248.53\n",
            "17450.0    233579.39\n",
            "Name: TotalSales, dtype: float64\n"
          ]
        }
      ]
    },
    {
      "cell_type": "markdown",
      "source": [
        "**3. Identify the top 5 selling items during this period.**\n"
      ],
      "metadata": {
        "id": "_KjIiivN30sb"
      }
    },
    {
      "cell_type": "code",
      "source": [
        "df['TotalSales'] = df['Price'] * df['Quantity']\n",
        "\n",
        "theItems = df.groupby('Description')['Quantity'].sum()\n",
        "\n",
        "top5itms = theItems.nlargest(5)\n",
        "\n",
        "print(\"Top 5 selling items :\")\n",
        "print(top5itms)"
      ],
      "metadata": {
        "id": "Eib52iXwnfiO",
        "colab": {
          "base_uri": "https://localhost:8080/"
        },
        "outputId": "94ff99ff-4b82-4fe7-d8cf-54af49f0a00c"
      },
      "execution_count": 18,
      "outputs": [
        {
          "output_type": "stream",
          "name": "stdout",
          "text": [
            "Top 5 selling items :\n",
            "Description\n",
            "WORLD WAR 2 GLIDERS ASSTD DESIGNS     108545\n",
            "WHITE HANGING HEART T-LIGHT HOLDER     93050\n",
            "ASSORTED COLOUR BIRD ORNAMENT          81306\n",
            "JUMBO BAG RED RETROSPOT                78090\n",
            "BROCADE RING PURSE                     70700\n",
            "Name: Quantity, dtype: int64\n"
          ]
        }
      ]
    },
    {
      "cell_type": "markdown",
      "source": [
        "to calculate the total sales for each item we start by multiplying the price of each item with the quantity sold. afterwords we group the items by their description and calculate the total quantity sold for each item. then its ready to print the top 5 selling items based on the total quantity sold."
      ],
      "metadata": {
        "id": "uAwnsW4AOO_Z"
      }
    },
    {
      "cell_type": "markdown",
      "source": [
        "**4. Determine the most frequently purchased item pairs by customers and display the top 20 pairs.**"
      ],
      "metadata": {
        "id": "ERUiFbEb6sqd"
      }
    },
    {
      "cell_type": "code",
      "source": [
        "df.dropna(subset=['Invoice', 'Description'], inplace=True)"
      ],
      "metadata": {
        "id": "h9w9umSQO7B8"
      },
      "execution_count": 19,
      "outputs": []
    },
    {
      "cell_type": "markdown",
      "source": [
        "This code drops rows with missing values in the 'Invoice' and 'discription'"
      ],
      "metadata": {
        "id": "WG1KD7a1O2Hk"
      }
    },
    {
      "cell_type": "code",
      "source": [
        "\n",
        "itemsPerIn = df.groupby('Invoice')['Description'].apply(list)\n",
        "\n",
        "\n",
        "thePairs = itemsPerIn.apply(lambda items: list(combinations(items, 2))).explode()\n",
        "\n",
        "pCount = thePairs.value_counts()\n",
        "\n",
        "top20P = pCount.head(20)\n",
        "\n",
        "print(\"Top 20 purchased pairs :\")\n",
        "print(top20P)"
      ],
      "metadata": {
        "id": "xdTuJSLn9_VZ",
        "colab": {
          "base_uri": "https://localhost:8080/"
        },
        "outputId": "285a6a01-8aba-4900-d2cf-88a3d7249446"
      },
      "execution_count": 20,
      "outputs": [
        {
          "output_type": "stream",
          "name": "stdout",
          "text": [
            "Top 20 purchased pairs :\n",
            "(RED HANGING HEART T-LIGHT HOLDER, WHITE HANGING HEART T-LIGHT HOLDER)    835\n",
            "(GREEN REGENCY TEACUP AND SAUCER, PINK REGENCY TEACUP AND SAUCER)         771\n",
            "(SWEETHEART CERAMIC TRINKET BOX, STRAWBERRY CERAMIC TRINKET BOX)          764\n",
            "(GREEN REGENCY TEACUP AND SAUCER, ROSES REGENCY TEACUP AND SAUCER )       752\n",
            "(JUMBO STORAGE BAG SUKI, JUMBO BAG RED RETROSPOT)                         730\n",
            "(HEART OF WICKER SMALL, HEART OF WICKER LARGE)                            677\n",
            "(JUMBO SHOPPER VINTAGE RED PAISLEY, JUMBO BAG RED RETROSPOT)              673\n",
            "(JUMBO BAG PINK POLKADOT, JUMBO BAG RED RETROSPOT)                        666\n",
            "(WOODEN FRAME ANTIQUE WHITE , WOODEN PICTURE FRAME WHITE FINISH)          663\n",
            "(PAPER CHAIN KIT 50'S CHRISTMAS , PAPER CHAIN KIT VINTAGE CHRISTMAS)      649\n",
            "(JUMBO BAG RED RETROSPOT, JUMBO  BAG BAROQUE BLACK WHITE)                 635\n",
            "(WHITE HANGING HEART T-LIGHT HOLDER, RED HANGING HEART T-LIGHT HOLDER)    627\n",
            "(JUMBO BAG RED RETROSPOT, DOTCOM POSTAGE)                                 623\n",
            "(WOODEN PICTURE FRAME WHITE FINISH, WOODEN FRAME ANTIQUE WHITE )          617\n",
            "(JUMBO STORAGE BAG SUKI, JUMBO SHOPPER VINTAGE RED PAISLEY)               606\n",
            "(HOME BUILDING BLOCK WORD, LOVE BUILDING BLOCK WORD)                      593\n",
            "(JUMBO BAG RED RETROSPOT, JUMBO BAG STRAWBERRY)                           580\n",
            "(LUNCH BAG WOODLAND, LUNCH BAG  BLACK SKULL.)                             578\n",
            "(ALARM CLOCK BAKELIKE GREEN, ALARM CLOCK BAKELIKE RED )                   576\n",
            "(PACK OF 60 PINK PAISLEY CAKE CASES, 60 TEATIME FAIRY CAKE CASES)         574\n",
            "Name: Description, dtype: int64\n"
          ]
        }
      ]
    },
    {
      "cell_type": "markdown",
      "source": [
        " it converts the lists of purchased items into pairs and counts the occurrence of each item pair. then it identifies the top 20 most frequent item pairs."
      ],
      "metadata": {
        "id": "oz2QOCatOxM8"
      }
    },
    {
      "cell_type": "markdown",
      "source": [
        "**5. The retail store aims to introduce a new promotion targeting items with low sales volume. This promotion entails offering a discounted price for a pair of two different items, with one item being among the top 10 best sellers and the other from the bottom 10 sellers. Customers who purchase these two items together will qualify for the special pricing. Your task is to recommend 10 pairs of items to kickstart this campaign.**"
      ],
      "metadata": {
        "id": "Mwbwnzrd61PT"
      }
    },
    {
      "cell_type": "code",
      "source": [
        "df.dropna(subset=['Description', 'Quantity', 'Price'], inplace=True)"
      ],
      "metadata": {
        "id": "IlU-wG9-PfVV"
      },
      "execution_count": 21,
      "outputs": []
    },
    {
      "cell_type": "markdown",
      "source": [
        "to remove rows with missing values in the 'Description' 'Quantity' and 'Price' columns"
      ],
      "metadata": {
        "id": "oz9agimiPgNh"
      }
    },
    {
      "cell_type": "code",
      "source": [
        "\n",
        "\n",
        "df['TotalSales'] = df['Quantity'] * df['Price']\n",
        "\n",
        "df = df[~df['Description'].str.contains('Adjustment|Manual|SAMPLE|Bank Charges|bad debt|AMAZON FEE|CRUK Commission')]\n",
        "\n",
        "DescSales = df.groupby('Description')['TotalSales'].sum()\n",
        "\n",
        "\n",
        "top10Item = DescSales.nlargest(10)\n",
        "bottom10Item = DescSales.nsmallest(10)\n",
        "\n",
        "LSVpairs = []\n",
        "for topP in top10Item.index:\n",
        "    bottomP = np.random.choice(bottom10Item.index)\n",
        "    LSVpairs.append((topP, bottomP))\n",
        "\n",
        "recommended_pairs = set()\n",
        "for pair in LSVpairs:\n",
        "    if len(recommended_pairs) == 10:\n",
        "        break\n",
        "    if pair[0] != pair[1]:\n",
        "        recommended_pairs.add(pair)\n",
        "\n",
        "print(\"Recommended pairs for the promotion:\")\n",
        "for idx, pair in enumerate(recommended_pairs, 1):\n",
        "    print(f\"{idx}. {pair[0]} and {pair[1]}\")"
      ],
      "metadata": {
        "id": "GfXTG9_K1bIQ",
        "colab": {
          "base_uri": "https://localhost:8080/"
        },
        "outputId": "b31e3be4-f8a4-416a-eb82-2fc00635902e"
      },
      "execution_count": 22,
      "outputs": [
        {
          "output_type": "stream",
          "name": "stdout",
          "text": [
            "Recommended pairs for the promotion:\n",
            "1. JUMBO BAG RED RETROSPOT and TREE OF NOAH FESTIVE SCENTED CANDLE\n",
            "2. DOTCOM POSTAGE and SILVER CHERRY LIGHTS\n",
            "3. PARTY BUNTING and S/16 BLACK SHINY/MAT BAUBLES\n",
            "4. WHITE HANGING HEART T-LIGHT HOLDER and SILVER CHERRY LIGHTS\n",
            "5. REGENCY CAKESTAND 3 TIER and WHITE ORCHID FLOWER LIGHTS\n",
            "6. CHILLI LIGHTS and TREE OF NOAH FESTIVE SCENTED CANDLE\n",
            "7. ROTATING SILVER ANGELS T-LIGHT HLDR and PADS TO MATCH ALL CUSHIONS\n",
            "8. POSTAGE and SILVER CHERRY LIGHTS\n",
            "9. PAPER CHAIN KIT 50'S CHRISTMAS  and TREE OF NOAH FESTIVE SCENTED CANDLE\n",
            "10. ASSORTED COLOUR BIRD ORNAMENT and PADS TO MATCH ALL CUSHIONS\n"
          ]
        }
      ]
    }
  ]
}